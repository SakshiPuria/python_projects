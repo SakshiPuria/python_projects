{
 "cells": [
  {
   "cell_type": "code",
   "execution_count": 30,
   "metadata": {},
   "outputs": [],
   "source": [
    "import tkinter as tk\n",
    "import requests\n",
    "\n",
    "root = tk.Tk()\n",
    "root.title(\"Weather Telling Application\")\n",
    "root.geometry(\"400x200\")\n",
    "\n",
    "# Set the background color of the root window\n",
    "root.configure(bg=\"light blue\")  # You can change \"light blue\" to any color you prefer\n",
    "\n",
    "def show_info():\n",
    "    city_name=t1.get()\n",
    "    api_key=\"91fe56a5c0dec2350887aa1e1b98b911\"\n",
    "    weather=requests.get(f\" https://api.openweathermap.org/data/2.5/weather?q={city_name}&appid={api_key}\")\n",
    "    print(weather)\n",
    "    if weather.json()[\"cod\"]==\"404\":\n",
    "        l2=tk.Label(root,text=\"you entered wrong city name\")\n",
    "        l2.grid(row=1,column=0)\n",
    "    else:\n",
    "        w= weather.json()[\"weather\"][0][\"main\"]\n",
    "    \n",
    "        D=weather.json()[\"weather\"][0][\"description\"]\n",
    "        T=weather.json()[\"main\"][\"temp\"]\n",
    "        H=weather.json()[\"main\"][\"humidity\"]\n",
    "        \n",
    "        l2=tk.Label(root,text=f\"Weather of {city_name} = {w} \\nDiscription =   {D} \\nTemperature  =  {T} \\nTodays Humidity = {H}\")\n",
    "        l2.grid(row=2,column=1)\n",
    "        \n",
    "\n",
    "\n",
    "label_style = {'font': ('Arial', 12), 'bg': 'light blue'}  \n",
    "button_style = {'font': ('Arial', 12), 'bg': 'light pink', 'fg': 'black'} \n",
    "def on_enter(event):\n",
    "    b1.config(bg=\"pink\")  #bg hovering\n",
    "\n",
    "def on_leave(event):\n",
    "    b1.config(bg=\"light pink\")  # original bg when leaving\n",
    "\n",
    "l1 = tk.Label(root, text=\"Enter the city name\", **label_style)\n",
    "l1.grid(row=0, column=0)\n",
    "t1 = tk.Entry(root)\n",
    "b1 = tk.Button(text=\"Get Weather\", command=show_info, **button_style)\n",
    "t1.grid(row=0, column=1)\n",
    "b1.grid(row=0, column=2)\n",
    "b1.bind(\"<Enter>\", on_enter)\n",
    "b1.bind(\"<Leave>\", on_leave)\n",
    "\n",
    "tk.mainloop()  #used to hold the screen at its place\n"
   ]
  }
 ],
 "metadata": {
  "kernelspec": {
   "display_name": "Python 3",
   "language": "python",
   "name": "python3"
  },
  "language_info": {
   "codemirror_mode": {
    "name": "ipython",
    "version": 3
   },
   "file_extension": ".py",
   "mimetype": "text/x-python",
   "name": "python",
   "nbconvert_exporter": "python",
   "pygments_lexer": "ipython3",
   "version": "3.11.3"
  },
  "orig_nbformat": 4
 },
 "nbformat": 4,
 "nbformat_minor": 2
}
